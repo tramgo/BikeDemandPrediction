{
 "cells": [
  {
   "cell_type": "markdown",
   "id": "bfd67c9a",
   "metadata": {},
   "source": [
    "## Bike Demand Prediction using Multiple Linear Regression\n",
    "\n",
    "This notebook outlines the process of building a multiple linear regression model to predict the demand for shared bikes, including data preprocessing, feature engineering, model building, and evaluation."
   ]
  },
  {
   "cell_type": "markdown",
   "id": "3a0c8e80",
   "metadata": {},
   "source": [
    "### Step: Data Loading\n",
    "\n",
    "Load the dataset and take a preliminary look at its structure."
   ]
  },
  {
   "cell_type": "code",
   "execution_count": 1,
   "id": "e37fd25a",
   "metadata": {},
   "outputs": [
    {
     "data": {
      "text/html": [
       "<div>\n",
       "<style scoped>\n",
       "    .dataframe tbody tr th:only-of-type {\n",
       "        vertical-align: middle;\n",
       "    }\n",
       "\n",
       "    .dataframe tbody tr th {\n",
       "        vertical-align: top;\n",
       "    }\n",
       "\n",
       "    .dataframe thead th {\n",
       "        text-align: right;\n",
       "    }\n",
       "</style>\n",
       "<table border=\"1\" class=\"dataframe\">\n",
       "  <thead>\n",
       "    <tr style=\"text-align: right;\">\n",
       "      <th></th>\n",
       "      <th>instant</th>\n",
       "      <th>dteday</th>\n",
       "      <th>season</th>\n",
       "      <th>yr</th>\n",
       "      <th>mnth</th>\n",
       "      <th>holiday</th>\n",
       "      <th>weekday</th>\n",
       "      <th>workingday</th>\n",
       "      <th>weathersit</th>\n",
       "      <th>temp</th>\n",
       "      <th>atemp</th>\n",
       "      <th>hum</th>\n",
       "      <th>windspeed</th>\n",
       "      <th>casual</th>\n",
       "      <th>registered</th>\n",
       "      <th>cnt</th>\n",
       "    </tr>\n",
       "  </thead>\n",
       "  <tbody>\n",
       "    <tr>\n",
       "      <th>0</th>\n",
       "      <td>1</td>\n",
       "      <td>01-01-2018</td>\n",
       "      <td>1</td>\n",
       "      <td>0</td>\n",
       "      <td>1</td>\n",
       "      <td>0</td>\n",
       "      <td>6</td>\n",
       "      <td>0</td>\n",
       "      <td>2</td>\n",
       "      <td>14.110847</td>\n",
       "      <td>18.18125</td>\n",
       "      <td>80.5833</td>\n",
       "      <td>10.749882</td>\n",
       "      <td>331</td>\n",
       "      <td>654</td>\n",
       "      <td>985</td>\n",
       "    </tr>\n",
       "    <tr>\n",
       "      <th>1</th>\n",
       "      <td>2</td>\n",
       "      <td>02-01-2018</td>\n",
       "      <td>1</td>\n",
       "      <td>0</td>\n",
       "      <td>1</td>\n",
       "      <td>0</td>\n",
       "      <td>0</td>\n",
       "      <td>0</td>\n",
       "      <td>2</td>\n",
       "      <td>14.902598</td>\n",
       "      <td>17.68695</td>\n",
       "      <td>69.6087</td>\n",
       "      <td>16.652113</td>\n",
       "      <td>131</td>\n",
       "      <td>670</td>\n",
       "      <td>801</td>\n",
       "    </tr>\n",
       "    <tr>\n",
       "      <th>2</th>\n",
       "      <td>3</td>\n",
       "      <td>03-01-2018</td>\n",
       "      <td>1</td>\n",
       "      <td>0</td>\n",
       "      <td>1</td>\n",
       "      <td>0</td>\n",
       "      <td>1</td>\n",
       "      <td>1</td>\n",
       "      <td>1</td>\n",
       "      <td>8.050924</td>\n",
       "      <td>9.47025</td>\n",
       "      <td>43.7273</td>\n",
       "      <td>16.636703</td>\n",
       "      <td>120</td>\n",
       "      <td>1229</td>\n",
       "      <td>1349</td>\n",
       "    </tr>\n",
       "    <tr>\n",
       "      <th>3</th>\n",
       "      <td>4</td>\n",
       "      <td>04-01-2018</td>\n",
       "      <td>1</td>\n",
       "      <td>0</td>\n",
       "      <td>1</td>\n",
       "      <td>0</td>\n",
       "      <td>2</td>\n",
       "      <td>1</td>\n",
       "      <td>1</td>\n",
       "      <td>8.200000</td>\n",
       "      <td>10.60610</td>\n",
       "      <td>59.0435</td>\n",
       "      <td>10.739832</td>\n",
       "      <td>108</td>\n",
       "      <td>1454</td>\n",
       "      <td>1562</td>\n",
       "    </tr>\n",
       "    <tr>\n",
       "      <th>4</th>\n",
       "      <td>5</td>\n",
       "      <td>05-01-2018</td>\n",
       "      <td>1</td>\n",
       "      <td>0</td>\n",
       "      <td>1</td>\n",
       "      <td>0</td>\n",
       "      <td>3</td>\n",
       "      <td>1</td>\n",
       "      <td>1</td>\n",
       "      <td>9.305237</td>\n",
       "      <td>11.46350</td>\n",
       "      <td>43.6957</td>\n",
       "      <td>12.522300</td>\n",
       "      <td>82</td>\n",
       "      <td>1518</td>\n",
       "      <td>1600</td>\n",
       "    </tr>\n",
       "  </tbody>\n",
       "</table>\n",
       "</div>"
      ],
      "text/plain": [
       "   instant      dteday  season  yr  mnth  holiday  weekday  workingday  \\\n",
       "0        1  01-01-2018       1   0     1        0        6           0   \n",
       "1        2  02-01-2018       1   0     1        0        0           0   \n",
       "2        3  03-01-2018       1   0     1        0        1           1   \n",
       "3        4  04-01-2018       1   0     1        0        2           1   \n",
       "4        5  05-01-2018       1   0     1        0        3           1   \n",
       "\n",
       "   weathersit       temp     atemp      hum  windspeed  casual  registered  \\\n",
       "0           2  14.110847  18.18125  80.5833  10.749882     331         654   \n",
       "1           2  14.902598  17.68695  69.6087  16.652113     131         670   \n",
       "2           1   8.050924   9.47025  43.7273  16.636703     120        1229   \n",
       "3           1   8.200000  10.60610  59.0435  10.739832     108        1454   \n",
       "4           1   9.305237  11.46350  43.6957  12.522300      82        1518   \n",
       "\n",
       "    cnt  \n",
       "0   985  \n",
       "1   801  \n",
       "2  1349  \n",
       "3  1562  \n",
       "4  1600  "
      ]
     },
     "execution_count": 1,
     "metadata": {},
     "output_type": "execute_result"
    }
   ],
   "source": [
    "import pandas as pd\n",
    "import numpy as np\n",
    "\n",
    "file_path = 'day.csv'\n",
    "bike_data = pd.read_csv(file_path)\n",
    "\n",
    "bike_data.head()"
   ]
  },
  {
   "cell_type": "markdown",
   "id": "7d1e63e2",
   "metadata": {},
   "source": [
    "### Step: Data Preprocessing\n",
    "\n",
    "Handle categorical variables and check for missing values."
   ]
  },
  {
   "cell_type": "code",
   "execution_count": 2,
   "id": "41e7a855",
   "metadata": {},
   "outputs": [
    {
     "data": {
      "text/plain": [
       "instant       0\n",
       "dteday        0\n",
       "season        0\n",
       "yr            0\n",
       "mnth          0\n",
       "holiday       0\n",
       "weekday       0\n",
       "workingday    0\n",
       "weathersit    0\n",
       "temp          0\n",
       "atemp         0\n",
       "hum           0\n",
       "windspeed     0\n",
       "casual        0\n",
       "registered    0\n",
       "cnt           0\n",
       "dtype: int64"
      ]
     },
     "execution_count": 2,
     "metadata": {},
     "output_type": "execute_result"
    }
   ],
   "source": [
    "categories = ['season', 'yr', 'mnth', 'holiday', 'weekday', 'workingday', 'weathersit']\n",
    "bike_data[categories] = bike_data[categories].astype('category')\n",
    "\n",
    "bike_data.isnull().sum()"
   ]
  },
  {
   "cell_type": "markdown",
   "id": "9efd340d",
   "metadata": {},
   "source": [
    "### Step: Exploratory Data Analysis (EDA)\n",
    "\n",
    "Analyze distributions and relationships between variables. Use only relevant columns for checking correlations. In this case, we're using only numeric columns and ignoring index column (instant)."
   ]
  },
  {
   "cell_type": "code",
   "execution_count": 3,
   "id": "70bec935",
   "metadata": {},
   "outputs": [
    {
     "data": {
      "image/png": "[encoded data removed]",
      "text/plain": [
       "<Figure size 800x400 with 1 Axes>"
      ]
     },
     "metadata": {},
     "output_type": "display_data"
    },
    {
     "data": {
      "image/png": "[encoded data removed]",
      "text/plain": [
       "<Figure size 1200x800 with 2 Axes>"
      ]
     },
     "metadata": {},
     "output_type": "display_data"
    }
   ],
   "source": [
    "import seaborn as sns\n",
    "import matplotlib.pyplot as plt\n",
    "\n",
    "# Distribution of the target variable\n",
    "plt.figure(figsize=(8, 4))\n",
    "sns.histplot(bike_data['cnt'])\n",
    "plt.show()\n",
    "\n",
    "# Correlation matrix\n",
    "plt.figure(figsize=(12, 8))\n",
    "\n",
    "# Select only relevant numeric columns for correlation\n",
    "relevant_numeric_data = bike_data.select_dtypes(include=[np.number]).drop(columns=['instant'])\n",
    "\n",
    "# Calculate the correlation matrix\n",
    "correlation_matrix = relevant_numeric_data.corr()\n",
    "\n",
    "sns.heatmap(correlation_matrix, annot=True, cmap='coolwarm')\n",
    "plt.show()"
   ]
  },
  {
   "cell_type": "markdown",
   "id": "7c65bbb5",
   "metadata": {},
   "source": [
    "#### Observation from EDA\n",
    "\n",
    "We see the columns 'Casual' and 'Registered' are pseudo-target variables and have high co-relation with 'Cnt' target variable. So its obvious to eliminate them from features considered."
   ]
  },
  {
   "cell_type": "markdown",
   "id": "4f3afbf3",
   "metadata": {},
   "source": [
    "#### Dummy Variables\n",
    "\n",
    "Between the features 'holiday', 'weekday' and 'workingday' there is redundancy of information, as this can be reduced to just 'holiday' + 'weekday', ignoring 'workingday'.\n",
    "The 'workingday' feature doesn't seem to add new information as other two features can cover it."
   ]
  },
  {
   "cell_type": "markdown",
   "id": "2a8304c7",
   "metadata": {},
   "source": [
    "### Step: Feature Engineering - Manual Feature Elimination\n",
    "\n",
    "Starting with a set of features and iteratively removing them based on high p-values and VIF."
   ]
  },
  {
   "cell_type": "markdown",
   "id": "fba8c3b1",
   "metadata": {},
   "source": [
    "#### Iteration 1 of Feature Removal\n",
    "\n",
    "This is to remove features based on high p-value and recalculate VIF."
   ]
  },
  {
   "cell_type": "code",
   "execution_count": 4,
   "id": "4285e765",
   "metadata": {},
   "outputs": [
    {
     "name": "stdout",
     "output_type": "stream",
     "text": [
      "                            OLS Regression Results                            \n",
      "==============================================================================\n",
      "Dep. Variable:                    cnt   R-squared:                       0.800\n",
      "Model:                            OLS   Adj. R-squared:                  0.797\n",
      "Method:                 Least Squares   F-statistic:                     288.0\n",
      "Date:                Thu, 07 Dec 2023   Prob (F-statistic):          1.08e-243\n",
      "Time:                        16:59:34   Log-Likelihood:                -5972.4\n",
      "No. Observations:                 730   AIC:                         1.197e+04\n",
      "Df Residuals:                     719   BIC:                         1.202e+04\n",
      "Df Model:                          10                                         \n",
      "Covariance Type:            nonrobust                                         \n",
      "==============================================================================\n",
      "                 coef    std err          t      P>|t|      [0.025      0.975]\n",
      "------------------------------------------------------------------------------\n",
      "const       1539.5341    235.339      6.542      0.000    1077.501    2001.567\n",
      "temp          49.3406     34.194      1.443      0.149     -17.792     116.473\n",
      "atemp         71.8015     31.751      2.261      0.024       9.466     134.137\n",
      "hum          -10.0459      3.138     -3.201      0.001     -16.207      -3.885\n",
      "windspeed    -38.5089      6.800     -5.663      0.000     -51.859     -25.158\n",
      "season       508.7111     54.696      9.301      0.000     401.329     616.094\n",
      "yr          2046.5430     65.173     31.402      0.000    1918.592    2174.494\n",
      "mnth         -40.0910     17.061     -2.350      0.019     -73.586      -6.596\n",
      "holiday     -604.1104    194.571     -3.105      0.002    -986.105    -222.116\n",
      "weekday       69.3601     16.279      4.261      0.000      37.399     101.321\n",
      "weathersit  -601.5392     78.099     -7.702      0.000    -754.868    -448.210\n",
      "==============================================================================\n",
      "Omnibus:                       96.104   Durbin-Watson:                   0.965\n",
      "Prob(Omnibus):                  0.000   Jarque-Bera (JB):              193.510\n",
      "Skew:                          -0.771   Prob(JB):                     9.55e-43\n",
      "Kurtosis:                       4.996   Cond. No.                         538.\n",
      "==============================================================================\n",
      "\n",
      "Notes:\n",
      "[1] Standard Errors assume that the covariance matrix of the errors is correctly specified.\n",
      "      feature         VIF\n",
      "0        temp  492.483843\n",
      "1       atemp  556.707086\n",
      "2         hum   27.812831\n",
      "3   windspeed    5.212964\n",
      "4      season   21.232504\n",
      "5          yr    1.950163\n",
      "6        mnth   15.241253\n",
      "7     holiday    1.041243\n",
      "8     weekday    3.087885\n",
      "9  weathersit   13.101270\n"
     ]
    }
   ],
   "source": [
    "# Iteration-1 - Manual Feature Selection\n",
    "\n",
    "import statsmodels.api as sm\n",
    "from statsmodels.stats.outliers_influence import variance_inflation_factor\n",
    "\n",
    "# Define a function to calculate VIF\n",
    "def calculate_vif(X):\n",
    "    vif_data = pd.DataFrame()\n",
    "    vif_data[\"feature\"] = X.columns\n",
    "    vif_data[\"VIF\"] = [variance_inflation_factor(X.values, i) for i in range(X.shape[1])]\n",
    "    return vif_data\n",
    "\n",
    "# Initial set of features\n",
    "features = ['temp', 'atemp', 'hum', 'windspeed', 'season', 'yr', 'mnth', 'holiday', 'weekday', 'weathersit']\n",
    "X = bike_data[features]\n",
    "y = bike_data['cnt']\n",
    "\n",
    "# Build a model with all features and check p-values\n",
    "X_with_const = sm.add_constant(X)\n",
    "model = sm.OLS(y, X_with_const).fit()\n",
    "print(model.summary())\n",
    "\n",
    "# Calculate VIF for the initial set of features\n",
    "vif_data_initial = calculate_vif(X)\n",
    "print(vif_data_initial)"
   ]
  },
  {
   "cell_type": "markdown",
   "id": "d8f5b1d8",
   "metadata": {},
   "source": [
    "#### Observation\n",
    "\n",
    "Since we see high p-value for feature 'temp', we'll remove it in next iteration"
   ]
  },
  {
   "cell_type": "markdown",
   "id": "f3eeb727",
   "metadata": {},
   "source": [
    "#### Iteration 2 of Feature Removal\n",
    "\n",
    "Removing 'temp' based on high p-value."
   ]
  },
  {
   "cell_type": "code",
   "execution_count": 12,
   "id": "9cf3c5f4",
   "metadata": {},
   "outputs": [
    {
     "name": "stdout",
     "output_type": "stream",
     "text": [
      "                            OLS Regression Results                            \n",
      "==============================================================================\n",
      "Dep. Variable:                    cnt   R-squared:                       0.800\n",
      "Model:                            OLS   Adj. R-squared:                  0.797\n",
      "Method:                 Least Squares   F-statistic:                     319.2\n",
      "Date:                Thu, 07 Dec 2023   Prob (F-statistic):          1.65e-244\n",
      "Time:                        17:05:46   Log-Likelihood:                -5973.5\n",
      "No. Observations:                 730   AIC:                         1.197e+04\n",
      "Df Residuals:                     720   BIC:                         1.201e+04\n",
      "Df Model:                           9                                         \n",
      "Covariance Type:            nonrobust                                         \n",
      "==============================================================================\n",
      "                 coef    std err          t      P>|t|      [0.025      0.975]\n",
      "------------------------------------------------------------------------------\n",
      "const       1452.1707    227.588      6.381      0.000    1005.355    1898.986\n",
      "atemp        117.1752      4.397     26.650      0.000     108.543     125.807\n",
      "hum          -10.3031      3.135     -3.286      0.001     -16.458      -4.148\n",
      "windspeed    -36.9124      6.715     -5.497      0.000     -50.095     -23.730\n",
      "season       508.1308     54.735      9.283      0.000     400.671     615.591\n",
      "yr          2047.3484     65.219     31.392      0.000    1919.306    2175.391\n",
      "mnth         -39.9923     17.074     -2.342      0.019     -73.512      -6.472\n",
      "holiday     -594.2804    194.597     -3.054      0.002    -976.326    -212.234\n",
      "weekday       70.6129     16.268      4.341      0.000      38.674     102.552\n",
      "weathersit  -597.5935     78.110     -7.651      0.000    -750.943    -444.244\n",
      "==============================================================================\n",
      "Omnibus:                       98.807   Durbin-Watson:                   0.973\n",
      "Prob(Omnibus):                  0.000   Jarque-Bera (JB):              207.580\n",
      "Skew:                          -0.775   Prob(JB):                     8.41e-46\n",
      "Kurtosis:                       5.102   Cond. No.                         499.\n",
      "==============================================================================\n",
      "\n",
      "Notes:\n",
      "[1] Standard Errors assume that the covariance matrix of the errors is correctly specified.\n",
      "      feature        VIF\n",
      "0       atemp  10.605097\n",
      "1         hum  26.207942\n",
      "2   windspeed   5.212846\n",
      "3      season  21.202868\n",
      "4          yr   1.945548\n",
      "5        mnth  15.240161\n",
      "6     holiday   1.040961\n",
      "7     weekday   3.087216\n",
      "8  weathersit  13.067000\n"
     ]
    }
   ],
   "source": [
    "# Iteration-2 - Manual Feature Selection\n",
    "\n",
    "# Iteration-2 set of features\n",
    "features = ['atemp', 'hum', 'windspeed', 'season', 'yr', 'mnth', 'holiday', 'weekday', 'weathersit']\n",
    "X = bike_data[features]\n",
    "y = bike_data['cnt']\n",
    "\n",
    "# Build a model with selected features and check p-values\n",
    "X_with_const = sm.add_constant(X)\n",
    "model = sm.OLS(y, X_with_const).fit()\n",
    "print(model.summary())\n",
    "\n",
    "# Calculate VIF for the latest set of features\n",
    "vif_data_initial = calculate_vif(X)\n",
    "print(vif_data_initial)"
   ]
  },
  {
   "cell_type": "markdown",
   "id": "db10dfe1",
   "metadata": {},
   "source": [
    "#### Iteration 3 of Feature Removal\n",
    "\n",
    "Removing 'mnth' based on high p-value."
   ]
  },
  {
   "cell_type": "code",
   "execution_count": 5,
   "id": "98535f6e",
   "metadata": {},
   "outputs": [
    {
     "name": "stdout",
     "output_type": "stream",
     "text": [
      "                            OLS Regression Results                            \n",
      "==============================================================================\n",
      "Dep. Variable:                    cnt   R-squared:                       0.798\n",
      "Model:                            OLS   Adj. R-squared:                  0.796\n",
      "Method:                 Least Squares   F-statistic:                     356.2\n",
      "Date:                Thu, 07 Dec 2023   Prob (F-statistic):          1.29e-244\n",
      "Time:                        16:59:34   Log-Likelihood:                -5976.3\n",
      "No. Observations:                 730   AIC:                         1.197e+04\n",
      "Df Residuals:                     721   BIC:                         1.201e+04\n",
      "Df Model:                           8                                         \n",
      "Covariance Type:            nonrobust                                         \n",
      "==============================================================================\n",
      "                 coef    std err          t      P>|t|      [0.025      0.975]\n",
      "------------------------------------------------------------------------------\n",
      "const       1461.6771    228.259      6.404      0.000    1013.546    1909.808\n",
      "atemp        118.4572      4.376     27.068      0.000     109.866     127.049\n",
      "hum          -11.0363      3.129     -3.527      0.000     -17.180      -4.893\n",
      "windspeed    -36.6564      6.735     -5.443      0.000     -49.878     -23.435\n",
      "season       403.7474     31.880     12.665      0.000     341.159     466.335\n",
      "yr          2044.4230     65.410     31.256      0.000    1916.006    2172.839\n",
      "holiday     -617.2375    194.954     -3.166      0.002    -999.983    -234.492\n",
      "weekday       69.2854     16.309      4.248      0.000      37.267     101.304\n",
      "weathersit  -591.3135     78.306     -7.551      0.000    -745.049    -437.578\n",
      "==============================================================================\n",
      "Omnibus:                       99.834   Durbin-Watson:                   0.958\n",
      "Prob(Omnibus):                  0.000   Jarque-Bera (JB):              207.568\n",
      "Skew:                          -0.786   Prob(JB):                     8.46e-46\n",
      "Kurtosis:                       5.086   Cond. No.                         496.\n",
      "==============================================================================\n",
      "\n",
      "Notes:\n",
      "[1] Standard Errors assume that the covariance matrix of the errors is correctly specified.\n",
      "      feature        VIF\n",
      "0       atemp  10.408011\n",
      "1         hum  25.894002\n",
      "2   windspeed   5.206827\n",
      "3      season   7.022292\n",
      "4          yr   1.945071\n",
      "5     holiday   1.038433\n",
      "6     weekday   3.084187\n",
      "7  weathersit  13.052589\n"
     ]
    }
   ],
   "source": [
    "# Iteration-3 - Manual Feature Selection\n",
    "\n",
    "# Iteration-3 set of features\n",
    "features = ['atemp', 'hum', 'windspeed', 'season', 'yr', 'holiday', 'weekday', 'weathersit']\n",
    "X = bike_data[features]\n",
    "y = bike_data['cnt']\n",
    "\n",
    "# Build a model with selected features and check p-values\n",
    "X_with_const = sm.add_constant(X)\n",
    "model = sm.OLS(y, X_with_const).fit()\n",
    "print(model.summary())\n",
    "\n",
    "# Calculate VIF for the latest set of features\n",
    "vif_data = calculate_vif(X)\n",
    "print(vif_data)"
   ]
  },
  {
   "cell_type": "markdown",
   "id": "a33438d6",
   "metadata": {},
   "source": [
    "#### Iteration 4 of Feature Removal\n",
    "\n",
    "Removed 'hum' based on high VIF."
   ]
  },
  {
   "cell_type": "code",
   "execution_count": 14,
   "id": "312cde48",
   "metadata": {},
   "outputs": [
    {
     "name": "stdout",
     "output_type": "stream",
     "text": [
      "                            OLS Regression Results                            \n",
      "==============================================================================\n",
      "Dep. Variable:                    cnt   R-squared:                       0.795\n",
      "Model:                            OLS   Adj. R-squared:                  0.793\n",
      "Method:                 Least Squares   F-statistic:                     399.0\n",
      "Date:                Thu, 07 Dec 2023   Prob (F-statistic):          2.94e-243\n",
      "Time:                        17:06:42   Log-Likelihood:                -5982.5\n",
      "No. Observations:                 730   AIC:                         1.198e+04\n",
      "Df Residuals:                     722   BIC:                         1.202e+04\n",
      "Df Model:                           7                                         \n",
      "Covariance Type:            nonrobust                                         \n",
      "==============================================================================\n",
      "                 coef    std err          t      P>|t|      [0.025      0.975]\n",
      "------------------------------------------------------------------------------\n",
      "const        998.6560    188.197      5.306      0.000     629.176    1368.136\n",
      "atemp        115.6403      4.337     26.666      0.000     107.126     124.154\n",
      "windspeed    -29.8613      6.504     -4.591      0.000     -42.630     -17.092\n",
      "season       390.5178     31.908     12.239      0.000     327.874     453.161\n",
      "yr          2073.2058     65.411     31.695      0.000    1944.788    2201.624\n",
      "holiday     -623.4083    196.484     -3.173      0.002   -1009.157    -237.659\n",
      "weekday       74.5001     16.370      4.551      0.000      42.362     106.638\n",
      "weathersit  -767.9735     60.664    -12.659      0.000    -887.073    -648.874\n",
      "==============================================================================\n",
      "Omnibus:                       92.656   Durbin-Watson:                   0.999\n",
      "Prob(Omnibus):                  0.000   Jarque-Bera (JB):              184.420\n",
      "Skew:                          -0.751   Prob(JB):                     8.99e-41\n",
      "Kurtosis:                       4.951   Cond. No.                         175.\n",
      "==============================================================================\n",
      "\n",
      "Notes:\n",
      "[1] Standard Errors assume that the covariance matrix of the errors is correctly specified.\n",
      "      feature       VIF\n",
      "0       atemp  8.186446\n",
      "1   windspeed  5.159669\n",
      "2      season  6.503338\n",
      "3          yr  1.945071\n",
      "4     holiday  1.034919\n",
      "5     weekday  3.068567\n",
      "6  weathersit  5.965280\n"
     ]
    }
   ],
   "source": [
    "# Iteration-4 - Manual Feature Selection\n",
    "\n",
    "# Iteration-4 set of features\n",
    "features = ['atemp', 'windspeed', 'season', 'yr', 'holiday', 'weekday', 'weathersit']\n",
    "X = bike_data[features]\n",
    "y = bike_data['cnt']\n",
    "\n",
    "# Build a model with selected features and check p-values\n",
    "X_with_const = sm.add_constant(X)\n",
    "model = sm.OLS(y, X_with_const).fit()\n",
    "print(model.summary())\n",
    "\n",
    "# Calculate VIF for the latest set of features\n",
    "vif_data = calculate_vif(X)\n",
    "print(vif_data)"
   ]
  },
  {
   "cell_type": "markdown",
   "id": "5a0d39c7",
   "metadata": {},
   "source": [
    "### Step: Model Building\n",
    "\n",
    "Build a multiple linear regression model using the latest selected features."
   ]
  },
  {
   "cell_type": "code",
   "execution_count": 15,
   "id": "bb94c771",
   "metadata": {},
   "outputs": [
    {
     "name": "stdout",
     "output_type": "stream",
     "text": [
      "      atemp  windspeed season yr holiday weekday weathersit\n",
      "0  18.18125  10.749882      1  0       0       6          2\n",
      "1  17.68695  16.652113      1  0       0       0          2\n",
      "2   9.47025  16.636703      1  0       0       1          1\n",
      "3  10.60610  10.739832      1  0       0       2          1\n",
      "4  11.46350  12.522300      1  0       0       3          1\n"
     ]
    },
    {
     "data": {
      "text/html": [
       "<style>#sk-container-id-2 {color: black;}#sk-container-id-2 pre{padding: 0;}#sk-container-id-2 div.sk-toggleable {background-color: white;}#sk-container-id-2 label.sk-toggleable__label {cursor: pointer;display: block;width: 100%;margin-bottom: 0;padding: 0.3em;box-sizing: border-box;text-align: center;}#sk-container-id-2 label.sk-toggleable__label-arrow:before {content: \"▸\";float: left;margin-right: 0.25em;color: #696969;}#sk-container-id-2 label.sk-toggleable__label-arrow:hover:before {color: black;}#sk-container-id-2 div.sk-estimator:hover label.sk-toggleable__label-arrow:before {color: black;}#sk-container-id-2 div.sk-toggleable__content {max-height: 0;max-width: 0;overflow: hidden;text-align: left;background-color: #f0f8ff;}#sk-container-id-2 div.sk-toggleable__content pre {margin: 0.2em;color: black;border-radius: 0.25em;background-color: #f0f8ff;}#sk-container-id-2 input.sk-toggleable__control:checked~div.sk-toggleable__content {max-height: 200px;max-width: 100%;overflow: auto;}#sk-container-id-2 input.sk-toggleable__control:checked~label.sk-toggleable__label-arrow:before {content: \"▾\";}#sk-container-id-2 div.sk-estimator input.sk-toggleable__control:checked~label.sk-toggleable__label {background-color: #d4ebff;}#sk-container-id-2 div.sk-label input.sk-toggleable__control:checked~label.sk-toggleable__label {background-color: #d4ebff;}#sk-container-id-2 input.sk-hidden--visually {border: 0;clip: rect(1px 1px 1px 1px);clip: rect(1px, 1px, 1px, 1px);height: 1px;margin: -1px;overflow: hidden;padding: 0;position: absolute;width: 1px;}#sk-container-id-2 div.sk-estimator {font-family: monospace;background-color: #f0f8ff;border: 1px dotted black;border-radius: 0.25em;box-sizing: border-box;margin-bottom: 0.5em;}#sk-container-id-2 div.sk-estimator:hover {background-color: #d4ebff;}#sk-container-id-2 div.sk-parallel-item::after {content: \"\";width: 100%;border-bottom: 1px solid gray;flex-grow: 1;}#sk-container-id-2 div.sk-label:hover label.sk-toggleable__label {background-color: #d4ebff;}#sk-container-id-2 div.sk-serial::before {content: \"\";position: absolute;border-left: 1px solid gray;box-sizing: border-box;top: 0;bottom: 0;left: 50%;z-index: 0;}#sk-container-id-2 div.sk-serial {display: flex;flex-direction: column;align-items: center;background-color: white;padding-right: 0.2em;padding-left: 0.2em;position: relative;}#sk-container-id-2 div.sk-item {position: relative;z-index: 1;}#sk-container-id-2 div.sk-parallel {display: flex;align-items: stretch;justify-content: center;background-color: white;position: relative;}#sk-container-id-2 div.sk-item::before, #sk-container-id-2 div.sk-parallel-item::before {content: \"\";position: absolute;border-left: 1px solid gray;box-sizing: border-box;top: 0;bottom: 0;left: 50%;z-index: -1;}#sk-container-id-2 div.sk-parallel-item {display: flex;flex-direction: column;z-index: 1;position: relative;background-color: white;}#sk-container-id-2 div.sk-parallel-item:first-child::after {align-self: flex-end;width: 50%;}#sk-container-id-2 div.sk-parallel-item:last-child::after {align-self: flex-start;width: 50%;}#sk-container-id-2 div.sk-parallel-item:only-child::after {width: 0;}#sk-container-id-2 div.sk-dashed-wrapped {border: 1px dashed gray;margin: 0 0.4em 0.5em 0.4em;box-sizing: border-box;padding-bottom: 0.4em;background-color: white;}#sk-container-id-2 div.sk-label label {font-family: monospace;font-weight: bold;display: inline-block;line-height: 1.2em;}#sk-container-id-2 div.sk-label-container {text-align: center;}#sk-container-id-2 div.sk-container {/* jupyter's `normalize.less` sets `[hidden] { display: none; }` but bootstrap.min.css set `[hidden] { display: none !important; }` so we also need the `!important` here to be able to override the default hidden behavior on the sphinx rendered scikit-learn.org. See: https://github.com/scikit-learn/scikit-learn/issues/21755 */display: inline-block !important;position: relative;}#sk-container-id-2 div.sk-text-repr-fallback {display: none;}</style><div id=\"sk-container-id-2\" class=\"sk-top-container\"><div class=\"sk-text-repr-fallback\"><pre>LinearRegression()</pre><b>In a Jupyter environment, please rerun this cell to show the HTML representation or trust the notebook. <br />On GitHub, the HTML representation is unable to render, please try loading this page with nbviewer.org.</b></div><div class=\"sk-container\" hidden><div class=\"sk-item\"><div class=\"sk-estimator sk-toggleable\"><input class=\"sk-toggleable__control sk-hidden--visually\" id=\"sk-estimator-id-2\" type=\"checkbox\" checked><label for=\"sk-estimator-id-2\" class=\"sk-toggleable__label sk-toggleable__label-arrow\">LinearRegression</label><div class=\"sk-toggleable__content\"><pre>LinearRegression()</pre></div></div></div></div></div>"
      ],
      "text/plain": [
       "LinearRegression()"
      ]
     },
     "execution_count": 15,
     "metadata": {},
     "output_type": "execute_result"
    }
   ],
   "source": [
    "from sklearn.model_selection import train_test_split\n",
    "from sklearn.linear_model import LinearRegression\n",
    "\n",
    "print(X.head()) #checking if we have latest dataset features for Model\n",
    "\n",
    "# Split the data\n",
    "X_train, X_test, y_train, y_test = train_test_split(X, y, test_size=0.2, random_state=100)\n",
    "\n",
    "# Build the model\n",
    "model = LinearRegression()\n",
    "model.fit(X_train, y_train)"
   ]
  },
  {
   "cell_type": "markdown",
   "id": "be123e4e",
   "metadata": {},
   "source": [
    "### Step: Homoscedasticity Check\n",
    "\n",
    "A scatter plot of the residuals versus the predicted values on training set doesn't show any significant pattern for attention."
   ]
  },
  {
   "cell_type": "code",
   "execution_count": 27,
   "id": "025d66f7",
   "metadata": {},
   "outputs": [
    {
     "data": {
      "image/png": "[encoded data removed]",
      "text/plain": [
       "<Figure size 1000x600 with 1 Axes>"
      ]
     },
     "metadata": {},
     "output_type": "display_data"
    }
   ],
   "source": [
    "import matplotlib.pyplot as plt\n",
    "import seaborn as sns\n",
    "\n",
    "y_train_pred = model.predict(X_train)\n",
    "\n",
    "# Calculating residuals\n",
    "residuals = y_train - y_train_pred\n",
    "\n",
    "# Plotting the residuals to check for homoscedasticity\n",
    "plt.figure(figsize=(10, 6))\n",
    "sns.scatterplot(x=y_train_pred, y=residuals)\n",
    "plt.xlabel('Predicted Values')\n",
    "plt.ylabel('Residuals')\n",
    "plt.axhline(y=0, color='red', linestyle='--')\n",
    "plt.title('Residuals vs Predicted Values')\n",
    "plt.show()"
   ]
  },
  {
   "cell_type": "markdown",
   "id": "4e65964b",
   "metadata": {},
   "source": [
    "### Step: Model Evaluation\n",
    "\n",
    "Predict on the test set and evaluate the model."
   ]
  },
  {
   "cell_type": "code",
   "execution_count": 16,
   "id": "d75dbc36",
   "metadata": {},
   "outputs": [
    {
     "name": "stdout",
     "output_type": "stream",
     "text": [
      "R-squared: 0.7520360889013684\n"
     ]
    }
   ],
   "source": [
    "from sklearn.metrics import r2_score\n",
    "\n",
    "# Make predictions\n",
    "y_pred = model.predict(X_test)\n",
    "\n",
    "# Calculate R-squared\n",
    "r2 = r2_score(y_test, y_pred)\n",
    "print(f'R-squared: {r2}')"
   ]
  },
  {
   "cell_type": "markdown",
   "id": "6176abc3",
   "metadata": {},
   "source": [
    "### Step: RFE Model Building\n",
    "\n",
    "Contrasting the model built manually with Automatic Feature Engineering"
   ]
  },
  {
   "cell_type": "code",
   "execution_count": 10,
   "id": "0e6089a0",
   "metadata": {},
   "outputs": [
    {
     "name": "stdout",
     "output_type": "stream",
     "text": [
      "RFE Selected Features:\n",
      "Index(['atemp', 'season', 'yr', 'holiday', 'weekday', 'workingday',\n",
      "       'weathersit'],\n",
      "      dtype='object')\n"
     ]
    }
   ],
   "source": [
    "from sklearn.feature_selection import RFE\n",
    "\n",
    "# RFE Initial set of features\n",
    "features_rfe_initial = ['temp', 'atemp', 'hum', 'windspeed', 'season', 'yr', 'mnth', 'holiday', 'weekday', 'workingday', 'weathersit']\n",
    "X_rfe = bike_data[features_rfe_initial]\n",
    "y_rfe = bike_data['cnt']\n",
    "\n",
    "# Recursive Feature Elimination (RFE)\n",
    "model_rfe = LinearRegression()\n",
    "rfe = RFE(model_rfe, n_features_to_select=7)  # Selecting top 7 features\n",
    "rfe.fit(X_rfe, y_rfe)\n",
    "\n",
    "# RFE selected features\n",
    "selected_features_rfe = X_rfe.columns[rfe.support_]\n",
    "print('RFE Selected Features:')\n",
    "print(selected_features_rfe)"
   ]
  },
  {
   "cell_type": "markdown",
   "id": "b41b2dde",
   "metadata": {},
   "source": [
    "### Step: RFE Model Evaluation"
   ]
  },
  {
   "cell_type": "code",
   "execution_count": 17,
   "id": "ec1a8946",
   "metadata": {},
   "outputs": [
    {
     "name": "stdout",
     "output_type": "stream",
     "text": [
      "RFE R-squared: 0.7554813730329079\n"
     ]
    }
   ],
   "source": [
    "# Split the data for RFE features\n",
    "X_train_rfe, X_test_rfe, y_train_rfe, y_test_rfe = train_test_split(X_rfe[selected_features_rfe], y, test_size=0.2, random_state=100)\n",
    "model_rfe.fit(X_train_rfe, y_train_rfe)\n",
    "y_pred_rfe = model_rfe.predict(X_test_rfe)\n",
    "r2_rfe = r2_score(y_test_rfe, y_pred_rfe)\n",
    "\n",
    "print(f'RFE R-squared: {r2_rfe}')"
   ]
  },
  {
   "cell_type": "markdown",
   "id": "eec4aca5",
   "metadata": {},
   "source": [
    "### Step: R-Square Comparison between Manual and RFE Strategies\n",
    "\n",
    "##### Manual R-squared: 0.7520360889013684\n",
    "##### RFE R-squared: 0.7554813730329079\n",
    "\n",
    "Prob (F-statistic) is small enough also:          2.94e-243\n",
    "\n",
    "As seen above, there isn't any significant change between RFE and Manual Feature Elimination."
   ]
  },
  {
   "cell_type": "markdown",
   "id": "0296b697",
   "metadata": {},
   "source": [
    "### Conclusion\n",
    "\n",
    "Based on the co-efficients, listed features below are influential in deciding the Shared Bikes demand.\n",
    "\n",
    "Year, Season, Feeling Temperature and DayofWeek has positive influence. Holiday, Weather, Windspeed have negative influence.\n"
   ]
  },
  {
   "cell_type": "code",
   "execution_count": 21,
   "id": "eaa27b5c",
   "metadata": {},
   "outputs": [
    {
     "name": "stdout",
     "output_type": "stream",
     "text": [
      "      Feature  Coefficient\n",
      "0          yr  2045.435124\n",
      "1      season   381.843005\n",
      "2       atemp   118.786235\n",
      "3     weekday    80.602283\n",
      "4   windspeed   -37.122047\n",
      "5  weathersit  -794.045381\n",
      "6     holiday  -835.386822\n"
     ]
    }
   ],
   "source": [
    "# Interpretation: Coefficients of the model\n",
    "\n",
    "# Get the coefficients from the model\n",
    "coefficients = pd.DataFrame({\n",
    "    'Feature': X.columns,\n",
    "    'Coefficient': model.coef_\n",
    "})\n",
    "\n",
    "# Sort the coefficients by influence\n",
    "coefficients.sort_values(by='Coefficient', ascending=False, inplace=True)\n",
    "\n",
    "# Reset the index for tabular display\n",
    "coefficients.reset_index(drop=True, inplace=True)\n",
    "\n",
    "# Print the sorted coefficients table\n",
    "print(coefficients)"
   ]
  },
  {
   "cell_type": "code",
   "execution_count": null,
   "id": "29609003",
   "metadata": {},
   "outputs": [],
   "source": []
  }
 ],
 "metadata": {
  "kernelspec": {
   "display_name": "Python 3 (ipykernel)",
   "language": "python",
   "name": "python3"
  },
  "language_info": {
   "codemirror_mode": {
    "name": "ipython",
    "version": 3
   },
   "file_extension": ".py",
   "mimetype": "text/x-python",
   "name": "python",
   "nbconvert_exporter": "python",
   "pygments_lexer": "ipython3",
   "version": "3.11.5"
  }
 },
 "nbformat": 4,
 "nbformat_minor": 5
}
